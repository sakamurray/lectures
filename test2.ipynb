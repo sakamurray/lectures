{
 "cells": [
  {
   "cell_type": "markdown",
   "metadata": {},
   "source": [
    "# 課題2\n",
    "\n",
    "#### 記号\n",
    "- $c$: 翼弦長\n",
    "- $C_p$: 圧力係数\n",
    "- $p$: 翼面上の静圧\n",
    "- $p_\\infty$: 一様流中の静圧\n",
    "- $v$: 翼面上の流速\n",
    "- $V$: 一様流の速さ\n",
    "- $x$: 翼前縁からの距離\n",
    "- $\\rho$: 密度\n",
    "\n",
    "ベルヌイの定理より\n",
    "$$p + \\frac{1}{2}\\rho v^2 = p_\\infty + \\frac{1}{2}\\rho V^2$$\n",
    "\n",
    "がなりたつ．これを，圧力係数の定義\n",
    "$$C_p = \\frac{p-p_\\infty}{\\frac{1}{2}\\rho V^2}$$\n",
    "に代入し，整理すると次式が得られる．\n",
    "$$\\frac{v}{V} = \\sqrt{1-C_p}$$\n",
    "与えられたグラフから$x/c$に対する$C_p$の値を読み取り，\n",
    "上式に代入すると，翼面上の速度分布が得られる．\n",
    "\n",
    "Pythonプログラムを用いてグラフを作成した結果を以下に示す．ここで，Picture1.csvとPicture2.csvには，グラフから読み取った下面および上面の$x/c$と$C_p$の値がそれぞれCSV形式で保存されている．\n",
    " "
   ]
  },
  {
   "cell_type": "code",
   "execution_count": 16,
   "metadata": {},
   "outputs": [
    {
     "data": {
      "image/png": "[encoded data removed]",
      "text/plain": [
       "<Figure size 432x288 with 1 Axes>"
      ]
     },
     "metadata": {
      "needs_background": "light"
     },
     "output_type": "display_data"
    }
   ],
   "source": [
    "%matplotlib inline\n",
    "import numpy as np\n",
    "import matplotlib.pyplot as plt\n",
    "import pandas as pd\n",
    "\n",
    "data1 = pd.read_csv('Picture1.csv', names=['x', 'cp'])\n",
    "x1 = data1['x']\n",
    "y1= np.sqrt(1-data1['cp'])\n",
    "plt.scatter(x1,y1,marker=\"o\",label='Lower surface')\n",
    "\n",
    "data2 = pd.read_csv('Picture2.csv', names=['x', 'cp'])\n",
    "x2 = data2['x']\n",
    "y2= np.sqrt(1-data2['cp'])\n",
    "plt.scatter(x2,y2,marker=\"x\",label='Upper surface')\n",
    "\n",
    "plt.xlabel(r'$x/c$')\n",
    "plt.xlim([0,1])\n",
    "plt.ylabel(r'$v/V$')\n",
    "plt.ylim([0,2])\n",
    "plt.legend()\n",
    "plt.show()"
   ]
  }
 ],
 "metadata": {
  "kernelspec": {
   "display_name": "Python 3",
   "language": "python",
   "name": "python3"
  },
  "language_info": {
   "codemirror_mode": {
    "name": "ipython",
    "version": 3
   },
   "file_extension": ".py",
   "mimetype": "text/x-python",
   "name": "python",
   "nbconvert_exporter": "python",
   "pygments_lexer": "ipython3",
   "version": "3.7.3"
  }
 },
 "nbformat": 4,
 "nbformat_minor": 4
}
