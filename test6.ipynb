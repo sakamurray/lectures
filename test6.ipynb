{
 "cells": [
  {
   "cell_type": "markdown",
   "metadata": {},
   "source": [
    "# 課題６\n",
    "\n",
    "## 問題\n",
    "1. 1段式のロケットを考える。ロケットの初期質量と終期質量との比を5, 比推力を450秒、地上での重力加速度を9.8 m/sとして、理想速度増分を求めなさい。\n",
    "1. 配布資料（航空機概論-11）の16ページの諸量を用いて、2段式ロケットの理想速度増分を求めなさい。"
   ]
  },
  {
   "cell_type": "markdown",
   "metadata": {},
   "source": [
    "## 解答例\n",
    "\n",
    "1. 理想速度増分$\\Delta V$は、次式で与えられる。\n",
    "$$\\Delta V = g_0 I_\\mathrm{sp} \\ln \\left( \\frac{M_0}{M_f} \\right)$$\n",
    "ここで、$g_0$は地上での重力加速度、$I_\\mathrm{sp}$は比推力、\n",
    "$M_0$は初期質量、$M_f$は終期質量である。\n",
    "題意より、$g_0=9.8$ m/s$^2$、$I_\\mathrm{sp}=450$ s、$M_0/M_f=5$であるので、\n",
    "これらの値を代入すると、$\\Delta V \\approx 7.10$ km/sとなる。Pythonによるプログラムの例を以下に示す。\n"
   ]
  },
  {
   "cell_type": "code",
   "execution_count": 7,
   "metadata": {},
   "outputs": [
    {
     "name": "stdout",
     "output_type": "stream",
     "text": [
      "7.098 km/s\n"
     ]
    }
   ],
   "source": [
    "import numpy as np\n",
    "\n",
    "g0=9.8 # m/2^2\n",
    "Isp=450 # s\n",
    "M0Mf=5\n",
    "\n",
    "deltaV= g0*Isp*np.log(M0Mf)\n",
    "\n",
    "print(round(deltaV/1000,3), 'km/s')"
   ]
  },
  {
   "cell_type": "markdown",
   "metadata": {},
   "source": [
    "2. 2段式ロケットの理想速度増分$\\Delta V$は、次式で与えられる。\n",
    "$$\\Delta V = g_0 \\left[ I_\\mathrm{sp_1} \\ln \\left( \\frac{M_{10}}{M_{1f}} \\right) + I_\\mathrm{sp_2} \\ln \\left( \\frac{M_{20}}{M_{2f}} \\right)\\right]$$\n",
    "ここで、$g_0$は地上での重力加速度、$I_\\mathrm{sp_i}$は$i$段目の比推力、\n",
    "$M_{i0}$は$i$段目の初期質量、$M_{if}$は$i$段目の終期質量である。\n",
    "\n",
    "題意より、$g_0=9.8$ m/s$^2$、$I_\\mathrm{sp_1}=357$ s、$I_\\mathrm{sp_2}=460$ s、$M_{10}=265600$ kg、$M_{1f}=61600$ kg、$M_{20}=31800$ kg、$M_{1f}=11380$ kgであるので、\n",
    "これらの値を代入すると、$\\Delta V \\approx 9.75$ km/sとなる。Pythonによるプログラムの例を以下に示す。\n"
   ]
  },
  {
   "cell_type": "code",
   "execution_count": 10,
   "metadata": {},
   "outputs": [
    {
     "name": "stdout",
     "output_type": "stream",
     "text": [
      "9.745 km/s\n"
     ]
    }
   ],
   "source": [
    "import numpy as np\n",
    "\n",
    "g0=9.8 # m/s^2\n",
    "Isp1=357 # s\n",
    "M10=265600 # kg\n",
    "M1f=61600 # kg\n",
    "Isp2=460 # s\n",
    "M20=31800 # kg\n",
    "M2f=11380 # kg\n",
    "\n",
    "deltaV= g0*(Isp1*np.log(M10/M1f) + Isp2*np.log(M20/M2f))\n",
    "\n",
    "print(round(deltaV/1000,3), 'km/s')"
   ]
  }
 ],
 "metadata": {
  "kernelspec": {
   "display_name": "Python 3",
   "language": "python",
   "name": "python3"
  },
  "language_info": {
   "codemirror_mode": {
    "name": "ipython",
    "version": 3
   },
   "file_extension": ".py",
   "mimetype": "text/x-python",
   "name": "python",
   "nbconvert_exporter": "python",
   "pygments_lexer": "ipython3",
   "version": "3.7.4"
  }
 },
 "nbformat": 4,
 "nbformat_minor": 4
}
